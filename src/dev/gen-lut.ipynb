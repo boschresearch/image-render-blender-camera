{
 "cells": [
  {
   "cell_type": "code",
   "execution_count": null,
   "metadata": {},
   "outputs": [],
   "source": [
    "import numpy as np\n",
    "\n",
    "aX = np.linspace(0.0, 10.0, num=10)\n",
    "aY = np.linspace(0.0, 5.0, num=5)\n",
    "\n",
    "aXG, aYG = np.meshgrid(aX, aY)\n",
    "aPos = np.concatenate((aXG[:, :, np.newaxis], aYG[:, :, np.newaxis]), axis=2)\n",
    "\n",
    "aRad = np.linalg.norm(aPos, axis=2)\n",
    "aPosDir = aPos / aRad[:, :, np.newaxis]\n",
    "\n",
    "aPixCnt = np.array([10, 20])\n",
    "iX, iY = aPixCnt.tolist()\n"
   ]
  }
 ],
 "metadata": {
  "kernelspec": {
   "display_name": "cath3",
   "language": "python",
   "name": "python3"
  },
  "language_info": {
   "codemirror_mode": {
    "name": "ipython",
    "version": 3
   },
   "file_extension": ".py",
   "mimetype": "text/x-python",
   "name": "python",
   "nbconvert_exporter": "python",
   "pygments_lexer": "ipython3",
   "version": "3.10.6"
  },
  "orig_nbformat": 4,
  "vscode": {
   "interpreter": {
    "hash": "d144e52b91e679811e4cceb0036205285e180e4be0ba7d3643a3ec09e4fe9f87"
   }
  }
 },
 "nbformat": 4,
 "nbformat_minor": 2
}
