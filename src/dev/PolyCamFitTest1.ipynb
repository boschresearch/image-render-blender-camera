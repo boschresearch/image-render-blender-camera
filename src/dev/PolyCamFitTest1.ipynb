{
 "cells": [
  {
   "cell_type": "code",
   "execution_count": 4,
   "metadata": {},
   "outputs": [
    {
     "name": "stdout",
     "output_type": "stream",
     "text": [
      "7.106628907944022e-06 + 0.01998810512640717 x**1 +\n",
      "3.9901571436530865e-06 x**2 - 3.1689211777970494e-06 x**3 +\n",
      "2.8068868502879966e-08 x**4\n"
     ]
    }
   ],
   "source": [
    "import numpy as np\n",
    "from numpy.polynomial.polynomial import polyfit\n",
    "from numpy.polynomial import Polynomial\n",
    "\n",
    "fFocLen = 50.0\n",
    "fSenWidth = 36.0\n",
    "\n",
    "iPixCntX = 101\n",
    "\n",
    "fMMperPix = fSenWidth / iPixCntX\n",
    "\n",
    "\n",
    "aX = np.arange(0.0, fSenWidth, fMMperPix)\n",
    "# print(aX)\n",
    "aA = np.arctan(aX / fFocLen)\n",
    "# print(aA)\n",
    "aA_deg = np.degrees(aA)\n",
    "# print(aA_deg)\n",
    "\n",
    "polyX = polyfit(aX, aA, 4)\n",
    "# print(polyX)\n",
    "# print(np.degrees(polyX)0)\n",
    "\n",
    "polyA = Polynomial.fit(aX, aA, 4, domain=[0.0, fSenWidth], window=[0.0, 1.0])\n",
    "# print(polyA)\n",
    "print(polyA.convert())\n",
    "# print(polyX(2 * fMMperPix))\n",
    "\n",
    "# print(polyA(1.0))\n"
   ]
  },
  {
   "cell_type": "code",
   "execution_count": 5,
   "metadata": {},
   "outputs": [
    {
     "name": "stdout",
     "output_type": "stream",
     "text": [
      "0.017453292519943295\n"
     ]
    }
   ],
   "source": [
    "import math\n",
    "print(math.radians(1))"
   ]
  },
  {
   "cell_type": "code",
   "execution_count": 25,
   "metadata": {},
   "outputs": [],
   "source": [
    "aX = np.array([[[1,0], [0,0]], [[2,1], [3,2]]])\n",
    "aLen = np.linalg.norm(aX, axis=2)\n",
    "aMask = np.expand_dims(aLen > 1e-6, axis=2)\n",
    "aMaskIdx = np.argwhere(aMask[:,:,0])\n",
    "aCtr = np.array((0.5, 0.6))\n",
    "aRelMaskIdx = aMaskIdx - aCtr[np.newaxis, :]\n",
    "aRad = np.linalg.norm(aRelMaskIdx, axis=1)\n",
    "\n",
    "aImgRad = np.zeros(aMask.shape[0:2])\n",
    "aImgRad[aMaskIdx[:,0], aMaskIdx[:, 1]] = aRad\n"
   ]
  },
  {
   "cell_type": "code",
   "execution_count": 23,
   "metadata": {},
   "outputs": [
    {
     "name": "stdout",
     "output_type": "stream",
     "text": [
      "[[1 0]\n",
      " [2 1]\n",
      " [3 2]]\n"
     ]
    }
   ],
   "source": [
    "\n",
    "print(aX[aMaskIdx[:,0], aMaskIdx[:, 1]])"
   ]
  }
 ],
 "metadata": {
  "kernelspec": {
   "display_name": "cath3",
   "language": "python",
   "name": "python3"
  },
  "language_info": {
   "codemirror_mode": {
    "name": "ipython",
    "version": 3
   },
   "file_extension": ".py",
   "mimetype": "text/x-python",
   "name": "python",
   "nbconvert_exporter": "python",
   "pygments_lexer": "ipython3",
   "version": "3.10.6"
  },
  "orig_nbformat": 4,
  "vscode": {
   "interpreter": {
    "hash": "d144e52b91e679811e4cceb0036205285e180e4be0ba7d3643a3ec09e4fe9f87"
   }
  }
 },
 "nbformat": 4,
 "nbformat_minor": 2
}
