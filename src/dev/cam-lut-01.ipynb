{
 "cells": [
  {
   "cell_type": "code",
   "execution_count": 47,
   "metadata": {},
   "outputs": [
    {
     "name": "stdout",
     "output_type": "stream",
     "text": [
      "[[[ 0.1  0.2  0.3]\n",
      "  [ 0.   0.  -1. ]]\n",
      "\n",
      " [[ 0.7  0.8 -0.9]\n",
      "  [ 1.   1.1 -1.2]]\n",
      "\n",
      " [[ 1.   2.   3. ]\n",
      "  [ 4.   5.   6. ]]]\n",
      "(3, 2, 3)\n"
     ]
    }
   ],
   "source": [
    "import math\n",
    "import numpy as np\n",
    "\n",
    "aX = np.array([[[0.1, 0.2, 0.3], [0.0, 0.0, -1.0]], [[0.7, 0.8, -0.9], [1.0, 1.1, -1.2]], [[1,2,3],[4,5,6]]])\n",
    "print(aX)\n",
    "print(aX.shape)\n"
   ]
  },
  {
   "cell_type": "code",
   "execution_count": 54,
   "metadata": {},
   "outputs": [
    {
     "data": {
      "text/plain": [
       "array([[[0.2, 0.1],\n",
       "        [0. , 0. ]],\n",
       "\n",
       "       [[0.8, 0.7],\n",
       "        [1.1, 1. ]],\n",
       "\n",
       "       [[2. , 1. ],\n",
       "        [5. , 4. ]]])"
      ]
     },
     "execution_count": 54,
     "metadata": {},
     "output_type": "execute_result"
    }
   ],
   "source": [
    "aX[:,:,0:2][:,:,::-1]"
   ]
  },
  {
   "cell_type": "code",
   "execution_count": 46,
   "metadata": {},
   "outputs": [
    {
     "name": "stdout",
     "output_type": "stream",
     "text": [
      "[[ 0.1  0.2  0.3]\n",
      " [ 0.   0.  -1. ]\n",
      " [ 1.   2.   3. ]\n",
      " [ 4.   5.   6. ]\n",
      " [ 0.7  0.8 -0.9]\n",
      " [ 1.   1.1 -1.2]]\n"
     ]
    },
    {
     "data": {
      "text/plain": [
       "array([[0.1, 0.2],\n",
       "       [0. , 0. ]])"
      ]
     },
     "execution_count": 46,
     "metadata": {},
     "output_type": "execute_result"
    }
   ],
   "source": [
    "aR = np.concatenate((aX[0,:,:], aX[-1,:,:], aX[1:-1, 0,:], aX[1:-1,-1,:]))\n",
    "print(aR)\n"
   ]
  },
  {
   "cell_type": "code",
   "execution_count": 17,
   "metadata": {},
   "outputs": [
    {
     "name": "stdout",
     "output_type": "stream",
     "text": [
      "[[[0.37416574]\n",
      "  [1.        ]]\n",
      "\n",
      " [[1.39283883]\n",
      "  [1.91049732]]]\n",
      "[[[ 0.26726124  0.53452248  0.80178373]\n",
      "  [ 0.          0.         -1.        ]]\n",
      "\n",
      " [[ 0.50257071  0.57436653 -0.64616234]\n",
      "  [ 0.52342392  0.57576631 -0.62810871]]]\n",
      "[[1. 1.]\n",
      " [1. 1.]]\n"
     ]
    }
   ],
   "source": [
    "aLen = np.expand_dims(np.linalg.norm(aX, axis=2), axis=2)\n",
    "print(aLen)\n",
    "\n",
    "aXn = aX / aLen\n",
    "print(aXn)\n",
    "\n",
    "print(np.linalg.norm(aXn, axis=2))"
   ]
  },
  {
   "cell_type": "code",
   "execution_count": 27,
   "metadata": {},
   "outputs": [
    {
     "name": "stdout",
     "output_type": "stream",
     "text": [
      "[[[0.26726124 0.53452248]\n",
      "  [0.         0.        ]]\n",
      "\n",
      " [[0.50257071 0.57436653]\n",
      "  [0.52342392 0.57576631]]]\n",
      "---\n",
      "[[0.5976143  0.        ]\n",
      " [0.76319999 0.7781256 ]]\n",
      "---\n",
      "[[ True False]\n",
      " [ True  True]]\n",
      "---\n",
      "[[0 0]\n",
      " [1 0]\n",
      " [1 1]]\n",
      "---\n",
      "[[[0.4472136  0.89442719]\n",
      "  [0.         0.        ]]\n",
      "\n",
      " [[0.65850461 0.75257669]\n",
      "  [0.67267279 0.73994007]]]\n",
      "---\n"
     ]
    }
   ],
   "source": [
    "aY = aXn[:,:,0:2]\n",
    "print(aY)\n",
    "print(\"---\")\n",
    "\n",
    "aLen = np.linalg.norm(aY, axis=2)\n",
    "print(aLen)\n",
    "print(\"---\")\n",
    "\n",
    "aMask = aLen > 1e-6\n",
    "print(aMask)\n",
    "print(\"---\")\n",
    "\n",
    "aIdx = np.argwhere(aMask)\n",
    "print(aIdx)\n",
    "print(\"---\")\n",
    "\n",
    "aYn = np.divide(aY, np.expand_dims(aLen, axis=2), where=np.expand_dims(aMask, axis=2))\n",
    "# aYn = aY / np.expand_dims(aLen, axis=2)\n",
    "print(aYn)\n",
    "print(\"---\")\n"
   ]
  },
  {
   "cell_type": "code",
   "execution_count": 28,
   "metadata": {},
   "outputs": [
    {
     "name": "stdout",
     "output_type": "stream",
     "text": [
      "[[-0.80178373  1.        ]\n",
      " [ 0.64616234  0.62810871]]\n",
      "---\n",
      "[[143.3007748    0.        ]\n",
      " [ 49.74712002  51.08927619]]\n"
     ]
    }
   ],
   "source": [
    "aZ = -aXn[:,:,2]\n",
    "print(aZ)\n",
    "print(\"---\")\n",
    "\n",
    "aA = np.arctan2(aLen, aZ)\n",
    "print(np.degrees(aA))\n"
   ]
  },
  {
   "cell_type": "code",
   "execution_count": null,
   "metadata": {},
   "outputs": [],
   "source": []
  }
 ],
 "metadata": {
  "kernelspec": {
   "display_name": "cath3",
   "language": "python",
   "name": "python3"
  },
  "language_info": {
   "codemirror_mode": {
    "name": "ipython",
    "version": 3
   },
   "file_extension": ".py",
   "mimetype": "text/x-python",
   "name": "python",
   "nbconvert_exporter": "python",
   "pygments_lexer": "ipython3",
   "version": "3.10.6 | packaged by conda-forge | (main, Aug 22 2022, 20:29:51) [MSC v.1929 64 bit (AMD64)]"
  },
  "orig_nbformat": 4,
  "vscode": {
   "interpreter": {
    "hash": "d144e52b91e679811e4cceb0036205285e180e4be0ba7d3643a3ec09e4fe9f87"
   }
  }
 },
 "nbformat": 4,
 "nbformat_minor": 2
}
