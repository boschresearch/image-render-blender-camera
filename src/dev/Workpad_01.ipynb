{
 "cells": [
  {
   "cell_type": "code",
   "execution_count": null,
   "metadata": {},
   "outputs": [],
   "source": [
    "import numpy as np\n",
    "\n",
    "aX = np.array([1, 0, 0])\n",
    "aY = np.array([0, 1, 0])\n",
    "aZ = np.array([0, 0, -1])\n",
    "\n",
    "aPnt = np.array([[0.5, -0.6, -5], [0.0, 0.0, -6]])\n",
    "aPnt_u = aPnt / np.linalg.norm(aPnt, axis=1)[:, np.newaxis]\n",
    "\n",
    "aPnt_x_Z = np.cross(aPnt_u, aZ)\n",
    "aRadAngle = np.arcsin(np.linalg.norm(aPnt_x_Z, axis=1))\n",
    "\n",
    "aImgDir = np.array([-aPnt_x_Z[:, 1], aPnt_x_Z[:, 0]]).T\n",
    "aImgDirNorm = np.linalg.norm(aImgDir, axis=1)\n",
    "aMask = aImgDirNorm >= 1e-6\n",
    "aImgDir = np.divide(aImgDir, aImgDirNorm[:, np.newaxis], where=aMask)\n",
    "aImgDir[~aMask, :] = 0.0\n",
    "aImgPos = aImgDir * aRadAngle[:, np.newaxis]\n",
    "\n",
    "\n",
    "# aHorAngle = np.arcsin()\n",
    "print(aPnt_x_Z)\n",
    "print(aRadAngle)\n",
    "\n",
    "print(aImgDir)\n",
    "print(aImgPos)"
   ]
  },
  {
   "cell_type": "code",
   "execution_count": null,
   "metadata": {},
   "outputs": [],
   "source": [
    "import numpy as np\n",
    "\n",
    "aRot = np.array(\n",
    "    [  # Rotation matrix 180° around x-axis\n",
    "        [1.0, 0.0, 0.0],  # Tor transform rays from opencv CS\n",
    "        [0.0, -1.0, 0.0],  # to blender CS\n",
    "        [0.0, 0.0, -1.0],\n",
    "    ]\n",
    ")\n",
    "\n",
    "iW = 3\n",
    "iH = 2\n",
    "iC = 3\n",
    "aA = np.arange(iH * iW * iC)\n",
    "aA = np.reshape(aA, (iH, iW, iC))\n",
    "# print(aA)\n",
    "\n",
    "aB = np.expand_dims(aA, -1)\n",
    "# print(aB)\n",
    "\n",
    "aC = np.squeeze(aRot @ aB)\n",
    "# print(aC)\n",
    "\n",
    "# Create array (iH*iW, 3)\n",
    "aD = np.reshape(aC, (-1, 3))\n",
    "# print(aD)\n",
    "\n",
    "aE = np.linalg.norm(aC, axis=2)\n",
    "# print(aE)\n",
    "\n",
    "aF = aC / np.expand_dims(aE, -1)\n",
    "# print(aF)\n",
    "\n",
    "aF_norm = np.linalg.norm(aF, axis=2)\n",
    "# print(aF_norm)\n",
    "\n",
    "aG = np.c_[aF, np.zeros((iH, iW, 1))]\n",
    "print(aG)\n",
    "# print(aG.size)\n",
    "\n",
    "aGp = (aG + 1.0) / 2.0\n",
    "print(aGp)"
   ]
  }
 ],
 "metadata": {
  "interpreter": {
   "hash": "1fd9ccb6907a1156b0761274769ee61082771ff00273b97ffe794db515fbf3e4"
  },
  "kernelspec": {
   "display_name": "Python 3.9.6 64-bit",
   "name": "python3"
  },
  "language_info": {
   "codemirror_mode": {
    "name": "ipython",
    "version": 3
   },
   "file_extension": ".py",
   "mimetype": "text/x-python",
   "name": "python",
   "nbconvert_exporter": "python",
   "pygments_lexer": "ipython3",
   "version": "3.8.12"
  },
  "orig_nbformat": 4
 },
 "nbformat": 4,
 "nbformat_minor": 2
}
