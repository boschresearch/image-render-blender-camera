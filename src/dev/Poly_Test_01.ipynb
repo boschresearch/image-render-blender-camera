{
 "cells": [
  {
   "cell_type": "code",
   "execution_count": 8,
   "metadata": {},
   "outputs": [
    {
     "name": "stdout",
     "output_type": "stream",
     "text": [
      "x: 0.0, val: 1.0, step: 0.5\n",
      "x: 0.5, val: 0.5625, step: 0.5\n",
      "x: 1.0, val: -1.5, step: -0.25\n",
      "x: 0.75, val: -0.16015625, step: -0.25\n",
      "x: 0.5, val: 0.5625, step: 0.125\n",
      "x: 0.625, val: 0.261474609375, step: 0.125\n",
      "x: 0.75, val: -0.16015625, step: -0.0625\n",
      "x: 0.6875, val: 0.0676116943359375, step: 0.03125\n",
      "x: 0.71875, val: -0.041779518127441406, step: -0.015625\n",
      "x: 0.703125, val: 0.014006555080413818, step: 0.0078125\n",
      "x: 0.7109375, val: -0.013609830290079117, step: -0.00390625\n",
      "x: 0.70703125, val: 0.00026701739989221096, step: 0.001953125\n",
      "x: 0.708984375, val: -0.00665417943673674, step: -0.0009765625\n",
      "x: 0.7080078125, val: -0.003189282187122444, step: -0.0009765625\n",
      "x: 0.70703125, val: 0.00026701739989221096, step: 0.00048828125\n",
      "x: 0.70751953125, val: -0.0014600586746951194, step: -0.000244140625\n",
      "x: 0.707275390625, val: -0.0005962523312099677, step: -0.000244140625\n",
      "x: 0.70703125, val: 0.00026701739989221096, step: 0.0001220703125\n"
     ]
    }
   ],
   "source": [
    "import numpy as np\n",
    "from numpy.polynomial.polynomial import Polynomial as Poly\n",
    "import math\n",
    "\n",
    "\n",
    "def Poly(fX, fK1, fK2):\n",
    "    fX2 = fX * fX\n",
    "    return fX * (1 + (fK1 + fK2 * fX2) * fX2)\n",
    "\n",
    "\n",
    "# enddef\n",
    "\n",
    "\n",
    "def DPoly(fX, fK1, fK2):\n",
    "    fX2 = fX * fX\n",
    "    return 1 + (3.0 * fK1 + 5.0 * fK2 * fX2) * fX2\n",
    "\n",
    "\n",
    "# enddef\n",
    "\n",
    "fK1 = -0.5\n",
    "fK2 = -0.2\n",
    "fX = 0.0\n",
    "fValPrev = DPoly(fX, fK1, fK2)\n",
    "fStep = 0.5\n",
    "while abs(fStep) > 1e-4:\n",
    "    print(\"x: {}, val: {}, step: {}\".format(fX, fValPrev, fStep))\n",
    "    fX += fStep\n",
    "    fVal = DPoly(fX, fK1, fK2)\n",
    "\n",
    "    if (fValPrev > 0.0) != (fVal > 0.0):\n",
    "        fStep *= -0.5\n",
    "    # endif\n",
    "\n",
    "    fValPrev = fVal\n",
    "# endwhile\n",
    "\n",
    "fX_zero = fX"
   ]
  },
  {
   "cell_type": "code",
   "execution_count": null,
   "metadata": {},
   "outputs": [],
   "source": []
  },
  {
   "cell_type": "code",
   "execution_count": 12,
   "metadata": {},
   "outputs": [
    {
     "name": "stdout",
     "output_type": "stream",
     "text": [
      "0.7071000000000001\n"
     ]
    },
    {
     "data": {
      "text/plain": [
       "[<matplotlib.lines.Line2D at 0x1be679a62e0>]"
      ]
     },
     "execution_count": 12,
     "metadata": {},
     "output_type": "execute_result"
    },
    {
     "data": {
      "image/png": "[encoded data removed]",
      "text/plain": [
       "<Figure size 432x288 with 1 Axes>"
      ]
     },
     "metadata": {
      "needs_background": "light"
     },
     "output_type": "display_data"
    }
   ],
   "source": [
    "from matplotlib import pyplot as plt\n",
    "\n",
    "fX_max = math.floor(fX * 1e4) * 1e-4\n",
    "print(fX_max)\n",
    "iStepCnt = 1000\n",
    "\n",
    "# Eval poly at points\n",
    "aX = np.arange(0, fX_max, fX_max / iStepCnt)\n",
    "# print(aX)\n",
    "\n",
    "plt.plot(aX, Poly(aX, fK1, fK2))\n",
    "plt.plot(aX, DPoly(aX, fK1, fK2))"
   ]
  },
  {
   "cell_type": "code",
   "execution_count": null,
   "metadata": {},
   "outputs": [],
   "source": [
    "aY = Poly(aX, fK1, fK2)"
   ]
  }
 ],
 "metadata": {
  "interpreter": {
   "hash": "d5b3bb6f6f98834e5303c870723d472d032d4475040bb871d7cf70c432557247"
  },
  "kernelspec": {
   "display_name": "Python 3.8.12 64-bit ('cath': conda)",
   "language": "python",
   "name": "python3"
  },
  "language_info": {
   "codemirror_mode": {
    "name": "ipython",
    "version": 3
   },
   "file_extension": ".py",
   "mimetype": "text/x-python",
   "name": "python",
   "nbconvert_exporter": "python",
   "pygments_lexer": "ipython3",
   "version": "3.8.12"
  },
  "orig_nbformat": 4
 },
 "nbformat": 4,
 "nbformat_minor": 2
}
