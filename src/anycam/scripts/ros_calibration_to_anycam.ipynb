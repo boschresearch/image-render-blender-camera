{
 "cells": [
  {
   "cell_type": "markdown",
   "id": "a116fff1",
   "metadata": {},
   "source": [
    "# Convert ROS calibration files to anycam optics definitions"
   ]
  },
  {
   "cell_type": "code",
   "execution_count": null,
   "id": "865c812b",
   "metadata": {},
   "outputs": [],
   "source": [
    "import os\n",
    "\n",
    "import yaml\n",
    "import json\n",
    "\n",
    "import numpy as np"
   ]
  },
  {
   "cell_type": "markdown",
   "id": "317575c4",
   "metadata": {},
   "source": [
    "## Input\n",
    "\n",
    "- ROS calibration file in yaml format\n",
    "- sensor pixel dimensions in um"
   ]
  },
  {
   "cell_type": "code",
   "execution_count": null,
   "id": "3665323d",
   "metadata": {},
   "outputs": [],
   "source": [
    "ros_calibration_filename = \"input/calibration_50-0503433255.yaml\"\n",
    "# sensor\n",
    "pixel_size_um_x = 3.45"
   ]
  },
  {
   "cell_type": "markdown",
   "id": "11877af6",
   "metadata": {},
   "source": [
    "## Output"
   ]
  },
  {
   "cell_type": "code",
   "execution_count": null,
   "id": "6abcaafb",
   "metadata": {},
   "outputs": [],
   "source": [
    "output_dir = \"output\"\n",
    "\n",
    "optic_dir = \"pingen\"\n",
    "sensor_dir = \"sensor\"\n",
    "camera_dir = \"camera\"\n",
    "\n",
    "anycam_optic_filename = \"lens.json\"\n",
    "anycam_sensor_filename = \"sensor.json\"\n",
    "anycam_camera_filename = \"camera.json\""
   ]
  },
  {
   "cell_type": "code",
   "execution_count": null,
   "id": "d01ff726",
   "metadata": {},
   "outputs": [],
   "source": [
    "with open(ros_calibration_filename, \"r\") as file:\n",
    "    ros_calibration = yaml.safe_load(file)"
   ]
  },
  {
   "cell_type": "code",
   "execution_count": null,
   "id": "91747c66",
   "metadata": {},
   "outputs": [],
   "source": [
    "# normalization by sensor width (in mm)\n",
    "sensor_width = pixel_size_um_x * ros_calibration[\"image_width\"] * 1e-3\n",
    "normalization_factor = sensor_width / (pixel_size_um_x * 1e-3)"
   ]
  },
  {
   "cell_type": "code",
   "execution_count": null,
   "id": "b433b4eb",
   "metadata": {},
   "outputs": [],
   "source": [
    "normalization_factor"
   ]
  },
  {
   "cell_type": "markdown",
   "id": "23ea88af",
   "metadata": {},
   "source": [
    "## Optics"
   ]
  },
  {
   "cell_type": "code",
   "execution_count": null,
   "id": "29bc8584",
   "metadata": {},
   "outputs": [],
   "source": [
    "lens_output = {\n",
    "    \"sDTI\": \"/anycam/db/project/pingen/opencv:1.0\",\n",
    "    \"sDTI/doc\": \"The calibration parameters used are those of the opencv pinhole camera calibration model: c.f. https://docs.opencv.org/4.x/d9/d0c/group__calib3d.html#ga3207604e4b1a1758aa66acb6ed5aa65d\",\n",
    "    \"sId\": \"${filebasename}\",\n",
    "    # \"sInputType\": \"radius/normalized/fixed/mm\",\n",
    "    # \"sOutputType\": \"angle/rad\",\n",
    "    # \"fMaxAngle_deg\": 180.0,\n",
    "    \"sUnit\": \"pixel\",\n",
    "    \"sUnit/doc\": \"The measurement unit of the calibration data. Has to be one of ['pixel', 'mm']\",\n",
    "}\n",
    "normalization_factor = 1.0\n",
    "\n",
    "lens_output[\n",
    "    \"sSensorName\"\n",
    "] = f\"{ros_calibration['camera_name']} {ros_calibration['image_width']}x{ros_calibration['image_height']} - {pixel_size_um_x}um\"\n",
    "lens_output[\"sLensName\"] = f\"{ros_calibration['camera_name']}\"\n",
    "\n",
    "image_width = ros_calibration[\"image_width\"]\n",
    "image_height = ros_calibration[\"image_height\"]\n",
    "lens_output[\"lSenSizeXY\"] = [image_width, image_height]\n",
    "lens_output[\"lSenSizeXY/doc\"] = \"sensor size in units determined by 'sUnit'\"\n",
    "\n",
    "fx = ros_calibration[\"camera_matrix\"][\"data\"][0] * normalization_factor\n",
    "fy = ros_calibration[\"camera_matrix\"][\"data\"][4] * normalization_factor\n",
    "lens_output[\"lFocLenXY\"] = [fx, fy]\n",
    "\n",
    "cx = ros_calibration[\"camera_matrix\"][\"data\"][2] * normalization_factor\n",
    "cy = ros_calibration[\"camera_matrix\"][\"data\"][5] * normalization_factor\n",
    "lens_output[\"lImgCtrXY\"] = [cx, cy]\n",
    "\n",
    "# vignetting is not defined in ROS calibration file\n",
    "lens_output[\"fVignettingNorm\"] = 1.0\n",
    "lens_output[\"fVignettingNorm/doc\"] = (\n",
    "    \"image plane positions in the units given by 'sUnit' are divided by this value before applied to the vignetting polynomial\",\n",
    ")\n",
    "\n",
    "lens_output[\"lVignetting\"] = [0.0, 0.0, 0.0]\n",
    "lens_output[\"lVignetting/doc\"] = \"vignetting polynomial\"\n",
    "\n",
    "\n",
    "if ros_calibration[\"distortion_model\"] == \"plumb_bob\":\n",
    "    lens_output[\"distortion_model\"] = \"plumb_bob\"\n",
    "\n",
    "    lens_output[\n",
    "        \"lDistRad/doc\"\n",
    "    ] = \"2, 3 or 6 radial distortion coefficients. Undefined coefficients are assumed to be zero.\"\n",
    "    lens_output[\"lDistRad\"] = []\n",
    "    # k1\n",
    "    lens_output[\"lDistRad\"].append(\n",
    "        ros_calibration[\"distortion_coefficients\"][\"data\"][0]\n",
    "        / np.power(normalization_factor, 3)\n",
    "    )\n",
    "    # k2\n",
    "    lens_output[\"lDistRad\"].append(\n",
    "        ros_calibration[\"distortion_coefficients\"][\"data\"][1]\n",
    "        / np.power(normalization_factor, 5)\n",
    "    )\n",
    "    # k3\n",
    "    lens_output[\"lDistRad\"].append(\n",
    "        ros_calibration[\"distortion_coefficients\"][\"data\"][4]\n",
    "        / np.power(normalization_factor, 7)\n",
    "    )\n",
    "\n",
    "    lens_output[\"lDistTan/doc\"] = \"2 tangential distortion coefficients\"\n",
    "    lens_output[\"lDistTan\"] = []\n",
    "    # p1\n",
    "    lens_output[\"lDistTan\"].append(\n",
    "        ros_calibration[\"distortion_coefficients\"][\"data\"][2]\n",
    "        / np.power(normalization_factor, 2)\n",
    "    )\n",
    "    # p2\n",
    "    lens_output[\"lDistTan\"].append(\n",
    "        ros_calibration[\"distortion_coefficients\"][\"data\"][3]\n",
    "        / np.power(normalization_factor, 4)\n",
    "    )\n",
    "\n",
    "    # for completness set other parameters and docstrings\n",
    "    lens_output[\"lDistTan/doc\"] = \"2 tangential distortion coefficients\"\n",
    "    lens_output[\"lDistPrism\"] = []\n",
    "    lens_output[\n",
    "        \"lDistPrism/doc\"\n",
    "    ] = \"1 to 4 prism distortion coefficients. c.f. https://docs.opencv.org/4.x/d9/d0c/group__calib3d.html#ga3207604e4b1a1758aa66acb6ed5aa65d\"\n",
    "    lens_output[\"lDistTilt\"] = []\n",
    "    lens_output[\"lDistTilt/doc\"] = \"2 sensor tilt angles in radians\"\n",
    "\n",
    "elif ros_calibration[\"distortion_model\"] == \"rational_polynomial\":\n",
    "    print(f'Distortion model {ros_calibration[\"distortion_model\"]} not implemented')\n",
    "elif ros_calibration[\"distortion_model\"] == \"equidistant\":\n",
    "    print(f'Distortion model {ros_calibration[\"distortion_model\"]} not implemented')\n",
    "else:\n",
    "    print(f'Unknown distortion model {ros_calibration[\"distortion_model\"]}')"
   ]
  },
  {
   "cell_type": "code",
   "execution_count": null,
   "id": "b73b8c05",
   "metadata": {},
   "outputs": [],
   "source": [
    "if not os.path.isdir(output_dir + \"/\" + optic_dir):\n",
    "    os.makedirs(output_dir + \"/\" + optic_dir)\n",
    "\n",
    "with open(os.path.join(output_dir, optic_dir, anycam_optic_filename), \"w\") as outfile:\n",
    "    json.dump(lens_output, outfile, indent=4)"
   ]
  },
  {
   "cell_type": "markdown",
   "id": "9d4f0739",
   "metadata": {},
   "source": [
    "## Sensor"
   ]
  },
  {
   "cell_type": "code",
   "execution_count": null,
   "id": "4200df7e",
   "metadata": {},
   "outputs": [],
   "source": [
    "sensor_output = {\n",
    "    \"sDTI\": \"/anycam/db/sensor/2d/std:1.0\",\n",
    "    \"sId\": \"${filebasename}\",\n",
    "}\n",
    "sensor_output[\"iPixCntX\"] = ros_calibration[\"image_width\"]\n",
    "sensor_output[\"iPixCntY\"] = ros_calibration[\"image_height\"]\n",
    "sensor_output[\"fPixSize\"] = pixel_size_um_x\n",
    "sensor_output[\n",
    "    \"sName\"\n",
    "] = f\"{ros_calibration['camera_name']} {sensor_output['iPixCntX']}x{sensor_output['iPixCntY']} - {sensor_output['fPixSize']}um\""
   ]
  },
  {
   "cell_type": "code",
   "execution_count": null,
   "id": "1e249e4f",
   "metadata": {},
   "outputs": [],
   "source": [
    "if not os.path.isdir(output_dir + \"/\" + sensor_dir):\n",
    "    os.makedirs(output_dir + \"/\" + sensor_dir)\n",
    "\n",
    "\n",
    "with open(os.path.join(output_dir, sensor_dir, anycam_sensor_filename), \"w\") as outfile:\n",
    "    json.dump(sensor_output, outfile, indent=4)"
   ]
  },
  {
   "cell_type": "markdown",
   "id": "9afd0817",
   "metadata": {},
   "source": [
    "## Camera"
   ]
  },
  {
   "cell_type": "code",
   "execution_count": null,
   "id": "9b78b63f",
   "metadata": {},
   "outputs": [],
   "source": [
    "camera_output = {\n",
    "    \"sDTI\": \"/anycam/db/camera/pingen:1.1\",\n",
    "    \"sId\": \"${filebasename}\",\n",
    "    \"sInfo\": \"the projection refers to pinhole calibration data. The sensor pixel count given there has to agree with the pixel count of the sensor.\",\n",
    "    \"fSensorScale\": 1.0,\n",
    "    \"fSensorScale/doc\": \"Sensor scale in Blender scene. Can improve numerical accuracy, but will change resultant images for close objects.\",\n",
    "}\n",
    "\n",
    "camera_output[\n",
    "    \"sName\"\n",
    "] = f\"{ros_calibration['camera_name']} {sensor_output['iPixCntX']}x{sensor_output['iPixCntY']} - {sensor_output['fPixSize']}um\"\n",
    "\n",
    "if anycam_sensor_filename.endswith(\".json\"):\n",
    "    anycam_sensor_filename = anycam_sensor_filename[:-5]\n",
    "camera_output[\"sSensorId\"] = (\n",
    "    output_dir + \"/\" + sensor_dir + \"/\" + anycam_sensor_filename\n",
    ")\n",
    "\n",
    "if anycam_optic_filename.endswith(\".json\"):\n",
    "    anycam_optic_filename = anycam_optic_filename[:-5]\n",
    "camera_output[\"sProjectId\"] = output_dir + \"/\" + optic_dir + \"/\" + anycam_optic_filename"
   ]
  },
  {
   "cell_type": "code",
   "execution_count": null,
   "id": "9a243402",
   "metadata": {},
   "outputs": [],
   "source": [
    "if not os.path.isdir(output_dir + \"/\" + camera_dir):\n",
    "    os.makedirs(output_dir + \"/\" + camera_dir)\n",
    "\n",
    "with open(os.path.join(output_dir, camera_dir, anycam_camera_filename), \"w\") as outfile:\n",
    "    json.dump(camera_output, outfile, indent=4)"
   ]
  },
  {
   "cell_type": "code",
   "execution_count": null,
   "id": "3fda9858",
   "metadata": {},
   "outputs": [],
   "source": []
  }
 ],
 "metadata": {
  "kernelspec": {
   "display_name": "Python 3 (ipykernel)",
   "language": "python",
   "name": "python3"
  },
  "language_info": {
   "codemirror_mode": {
    "name": "ipython",
    "version": 3
   },
   "file_extension": ".py",
   "mimetype": "text/x-python",
   "name": "python",
   "nbconvert_exporter": "python",
   "pygments_lexer": "ipython3",
   "version": "3.8.12"
  }
 },
 "nbformat": 4,
 "nbformat_minor": 5
}
