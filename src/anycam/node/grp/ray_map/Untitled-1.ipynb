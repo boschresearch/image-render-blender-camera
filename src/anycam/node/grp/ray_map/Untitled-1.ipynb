{
 "cells": [
  {
   "cell_type": "code",
   "execution_count": 1,
   "metadata": {},
   "outputs": [
    {
     "name": "stdout",
     "output_type": "stream",
     "text": [
      "[[[ 1  2  3  4]\n",
      "  [ 4  5  6  7]]\n",
      "\n",
      " [[ 7  8  9 10]\n",
      "  [10 11 12 13]]]\n",
      "[[[ 3  2  1  4]\n",
      "  [ 6  5  4  7]]\n",
      "\n",
      " [[ 9  8  7 10]\n",
      "  [12 11 10 13]]]\n"
     ]
    }
   ],
   "source": [
    "import numpy as np\n",
    "aX = np.array([[[1, 2, 3, 4], [4,5,6, 7]], [[7,8,9, 10],[10,11,12, 13]]])\n",
    "print(aX)\n",
    "\n",
    "aY = aX[:, :, [2,1,0,3]]\n",
    "print(aY)\n"
   ]
  },
  {
   "cell_type": "code",
   "execution_count": null,
   "metadata": {},
   "outputs": [],
   "source": [
    "import numpy as np\n",
    "\n",
    "\n",
    "aX = np.array([[[1, 2, 3], [4,5,6]], [[7,8,9],[10,11,12]]])\n",
    "print(aX)\n",
    "aXlin = aX.reshape(4, 3)\n",
    "\n",
    "aY = np.array([[1,1,1], [2,2,2]])\n",
    "\n",
    "aXex = np.expand_dims(aXlin, axis=0)\n",
    "aYex = np.expand_dims(aY, axis=1)\n",
    "aZex = aXex - aYex"
   ]
  },
  {
   "cell_type": "code",
   "execution_count": null,
   "metadata": {},
   "outputs": [],
   "source": [
    "aA = np.array([1,2,3])\n",
    "aB = np.array([aA])\n",
    "fX = np.dot(aA, aA)\n",
    "\n",
    "for aX in aB:\n",
    "    print(aX)\n",
    "# endfor"
   ]
  },
  {
   "cell_type": "code",
   "execution_count": 3,
   "metadata": {},
   "outputs": [
    {
     "name": "stdout",
     "output_type": "stream",
     "text": [
      "(100, 100, 4)\n"
     ]
    }
   ],
   "source": [
    "import numpy as np\n",
    "from anycam.model.cls_camera_lut import CCameraLut\n",
    "\n",
    "xCamLut = CCameraLut()\n",
    "xCamLut.FromFile(_xFilePath=\"[path]/image-render-workspace-test/_render/RayMap/Pinhole/Image0001.exr\",\n",
    "                    _iLutBorderPixel=0, _iLutSuperSampling=1)\n",
    "\n",
    "print(xCamLut.imgLut.shape)"
   ]
  },
  {
   "cell_type": "code",
   "execution_count": 4,
   "metadata": {},
   "outputs": [],
   "source": [
    "aRayDirs = xCamLut.imgLut[:, :, 0:3]\n",
    "iRows, iCols, _ = aRayDirs.shape\n",
    "aGridR, aGridC = np.mgrid[0:iRows, 0:iCols]\n",
    "\n",
    "aGrid = np.concatenate((aGridR[:, :, np.newaxis], aGridC[:, :, np.newaxis]), axis=2)\n",
    "\n",
    "iPixCnt = iRows * iCols\n",
    "aDirs = aRayDirs.reshape(iPixCnt, 3)\n",
    "aPos = aGrid.reshape(iPixCnt, 2)\n",
    "\n"
   ]
  },
  {
   "cell_type": "code",
   "execution_count": 21,
   "metadata": {},
   "outputs": [],
   "source": [
    "import math\n",
    "fA = math.radians(15.0)\n",
    "# aTestDir = np.array([[math.sin(fA), 0.1, -math.cos(fA)]])\n",
    "aA = aRayDirs[5, 10, :]\n",
    "aB = aRayDirs[5, 11, :]\n",
    "aTestDir = np.expand_dims(aA + 0.5 * (aB - aA), axis=0)\n",
    "\n",
    "# aTestDir = aRayDirs[5, 10:12, :]\n",
    "aTestDirEx = np.expand_dims(aTestDir, axis=1)\n",
    "aDirsEx = np.expand_dims(aDirs, axis=0)\n",
    "\n",
    "aSub = aDirsEx - aTestDirEx\n",
    "aDist = np.linalg.norm(aSub, axis=2)\n",
    "aMinIdx = np.argmin(aDist, axis=1)\n",
    "# aDistSort = np.argsort(aDist, axis=1)\n",
    "\n",
    "# aSelIdx = aDistSort[:, 0:4]\n",
    "\n"
   ]
  },
  {
   "cell_type": "code",
   "execution_count": 22,
   "metadata": {},
   "outputs": [
    {
     "name": "stdout",
     "output_type": "stream",
     "text": [
      "5, 10\n",
      "4.9535911081767265, 10.501891336234213\n"
     ]
    }
   ],
   "source": [
    "# for iTestIdx, iMinIdx in enumerate(aMinIdx):\n",
    "iTestIdx = 0\n",
    "iMinIdx = aMinIdx[iTestIdx]\n",
    "\n",
    "iRowIdx = iMinIdx // iRows\n",
    "iColIdx = iMinIdx % iRows\n",
    "print(f\"{iRowIdx}, {iColIdx}\")\n",
    "\n",
    "iColMin = max(0, iColIdx - 1)\n",
    "iColMax = min(iCols-1, iColIdx + 1)\n",
    "iRowMin = max(0, iRowIdx - 1)\n",
    "iRowMax = min(iRows-1, iRowIdx + 1)\n",
    "\n",
    "aTest = aTestDir[iTestIdx]\n",
    "aNearest = aRayDirs[iRowIdx, iColIdx, :]\n",
    "aOrig = aRayDirs[iRowMin, iColMin, :]\n",
    "aMaxX = aRayDirs[iRowMin, iColMax, :]\n",
    "aMaxY = aRayDirs[iRowMax, iColMin, :]\n",
    "\n",
    "aX = (aMaxX - aOrig) / (iColMax - iColMin)\n",
    "aY = (aMaxY - aOrig) / (iRowMax - iRowMin)\n",
    "\n",
    "fXlen = np.linalg.norm(aX)\n",
    "fYlen = np.linalg.norm(aY)\n",
    "\n",
    "aDelta = aTest - aNearest\n",
    "fDeltaPixX = np.dot(aDelta, aX) / (fXlen*fXlen)\n",
    "fDeltaPixY = np.dot(aDelta, aY) / (fYlen*fYlen)\n",
    "\n",
    "fPixRow = iRowIdx + fDeltaPixY\n",
    "fPixCol = iColIdx + fDeltaPixX\n",
    "\n",
    "print(f\"{fPixRow}, {fPixCol}\")\n",
    "\n",
    "# endfor"
   ]
  },
  {
   "cell_type": "code",
   "execution_count": null,
   "metadata": {},
   "outputs": [],
   "source": [
    "import math\n",
    "from scipy.interpolate import griddata\n",
    "\n",
    "# aTestDir = aRayDirs[5, 10:11, :]\n",
    "fA = math.radians(15.0)\n",
    "aTestDir = np.array([[math.sin(fA), 0.1, -math.cos(fA)]])\n",
    "\n",
    "aPixPos = griddata(aDirs, aPos, aTestDir, method=\"linear\")\n"
   ]
  }
 ],
 "metadata": {
  "kernelspec": {
   "display_name": "cath3",
   "language": "python",
   "name": "python3"
  },
  "language_info": {
   "codemirror_mode": {
    "name": "ipython",
    "version": 3
   },
   "file_extension": ".py",
   "mimetype": "text/x-python",
   "name": "python",
   "nbconvert_exporter": "python",
   "pygments_lexer": "ipython3",
   "version": "3.10.6 | packaged by conda-forge | (main, Aug 22 2022, 20:29:51) [MSC v.1929 64 bit (AMD64)]"
  },
  "orig_nbformat": 4,
  "vscode": {
   "interpreter": {
    "hash": "d144e52b91e679811e4cceb0036205285e180e4be0ba7d3643a3ec09e4fe9f87"
   }
  }
 },
 "nbformat": 4,
 "nbformat_minor": 2
}
